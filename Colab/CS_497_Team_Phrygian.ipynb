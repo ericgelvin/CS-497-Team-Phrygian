{
  "nbformat": 4,
  "nbformat_minor": 0,
  "metadata": {
    "colab": {
      "name": "CS-497-Team-Phrygian.ipynb",
      "provenance": [],
      "collapsed_sections": []
    },
    "kernelspec": {
      "name": "python3",
      "display_name": "Python 3"
    }
  },
  "cells": [
    {
      "cell_type": "code",
      "metadata": {
        "colab_type": "code",
        "id": "MrDdXK3vwDAu",
        "colab": {
          "base_uri": "https://localhost:8080/",
          "height": 243
        },
        "outputId": "57f19a7e-10c9-4a9c-e2a4-4e249e2292c0"
      },
      "source": [
        "from   sklearn.linear_model import LogisticRegression\n",
        "import numpy                as np\n",
        "import pandas               as pd\n",
        "\n",
        "\n",
        "# Using scikitlearn we will use logistical regression model\n",
        "\n",
        "# Load in data from csv file that was downloaded from kaggle\n",
        "# https://www.kaggle.com/washingtonpost/police-shootings\n",
        "min_columns = ['manner_of_death', 'armed', 'age', 'gender', 'race', 'city', 'state', 'signs_of_mental_illness', 'threat_level','flee', 'body_camera']\n",
        "removeList  = ['manner_of_death', 'armed', 'gender', 'race', 'city', 'state', 'signs_of_mental_illness', 'threat_level','flee', 'body_camera']\n",
        "dataFrame   = pd.read_csv(\"database.csv\", names=min_columns, skiprows=1)\n",
        "\n",
        "print(dataFrame.shape)\n",
        "\n",
        "# There is text data in our CSV so we will have to use pandas dummy variables to address this issue and merge the dummies with the dataframe\n",
        "dummiesList = [dataFrame]\n",
        "dummiesList.append(pd.get_dummies(dataFrame.manner_of_death))\n",
        "dummiesList.append(pd.get_dummies(dataFrame.armed))\n",
        "dummiesList.append(pd.get_dummies(dataFrame.gender))\n",
        "dummiesList.append(pd.get_dummies(dataFrame.race))\n",
        "dummiesList.append(pd.get_dummies(dataFrame.city))\n",
        "dummiesList.append(pd.get_dummies(dataFrame.state))\n",
        "dummiesList.append(pd.get_dummies(dataFrame.signs_of_mental_illness))\n",
        "dummiesList.append(pd.get_dummies(dataFrame.threat_level))\n",
        "dummiesList.append(pd.get_dummies(dataFrame.flee))\n",
        "dummiesList.append(pd.get_dummies(dataFrame.body_camera))\n",
        "\n",
        "# Now we can merge the Lists\n",
        "encodedDF = pd.concat(dummiesList, axis='columns')\n",
        "encodedDF = encodedDF.drop(removeList, axis='columns')\n",
        "encodedDF.age = encodedDF[['age']].fillna(0)\n",
        "\n",
        "\n",
        "# The data is clean\n",
        "features = encodedDF.columns[1:]\n",
        "print(features)\n",
        "\n",
        "X = encodedDF[features]\n",
        "Y = encodedDF.age\n"
      ],
      "execution_count": 43,
      "outputs": [
        {
          "output_type": "stream",
          "text": [
            "(2142, 11)\n",
            "Index([                            'shot',                 'shot and Tasered',\n",
            "                                  'Taser',                               'ax',\n",
            "                           'baseball bat', 'baseball bat and fireplace poker',\n",
            "                                  'baton',                          'bayonet',\n",
            "                           'bean-bag gun',                      'beer bottle',\n",
            "       ...\n",
            "                                     True,                           'attack',\n",
            "                                  'other',                     'undetermined',\n",
            "                                    'Car',                             'Foot',\n",
            "                            'Not fleeing',                            'Other',\n",
            "                                    False,                               True],\n",
            "      dtype='object', length=1383)\n"
          ],
          "name": "stdout"
        }
      ]
    },
    {
      "cell_type": "code",
      "metadata": {
        "id": "SqFhTb20zHzW",
        "colab_type": "code",
        "colab": {}
      },
      "source": [
        "from sklearn.linear_model import LogisticRegression\n",
        "from sklearn.model_selection import train_test_split\n",
        "from sklearn import metrics\n",
        "from numpy import array\n",
        "model = LogisticRegression(max_iter=10000)\n",
        "\n",
        "\n",
        "#Split the data!\n",
        "Xtrain,Xtest,Ytrain,Ytest=train_test_split(X,Y,test_size=0.15,random_state=0)\n",
        "#Train with the data!\n",
        "model.fit(Xtrain,Ytrain)\n",
        "#Test the Model\n",
        "predictions = model.predict(Xtest)\n",
        "\n",
        "#TBH Cleaning the data and making sure the shapes of the matricies were in line\n",
        "#one anothe had to be one of the hardest parts of this whole thing. The\n",
        "#actual training took like not even 5 min\n"
      ],
      "execution_count": 0,
      "outputs": []
    },
    {
      "cell_type": "code",
      "metadata": {
        "id": "EiTpBfRewa4L",
        "colab_type": "code",
        "colab": {
          "base_uri": "https://localhost:8080/",
          "height": 34
        },
        "outputId": "dd9ed29b-374c-4827-e492-65cc9be6cb52"
      },
      "source": [
        "# What this thing does in a nutshell is it will take in the following parameters\n",
        "# ['manner_of_death', 'armed', 'gender', 'race', 'city', 'state', 'signs_of_mental_illness', 'threat_level','flee', 'body_camera']\n",
        "# And it will try and determine your age\n",
        "\n",
        "\n",
        "print(\"The Accuracy of our predictions is: \",metrics.accuracy_score(Ytest, predictions))\n"
      ],
      "execution_count": 40,
      "outputs": [
        {
          "output_type": "stream",
          "text": [
            "The Accuracy of our predictions is:  0.046583850931677016\n"
          ],
          "name": "stdout"
        }
      ]
    },
    {
      "cell_type": "markdown",
      "metadata": {
        "id": "NG925d_-Ot6o",
        "colab_type": "text"
      },
      "source": [
        ""
      ]
    },
    {
      "cell_type": "code",
      "metadata": {
        "id": "_eze1_jgxnXW",
        "colab_type": "code",
        "colab": {}
      },
      "source": [
        "#This cell should only be ran if we train the model on new data\n",
        "#No need to run this unless the program can't see the pickled \n",
        "#object\n",
        "\n",
        "import pickle\n",
        "\n",
        "file = open('/content/model.pkl', 'wb')\n",
        "pickle.dump(model, file)\n",
        "file.close()"
      ],
      "execution_count": 0,
      "outputs": []
    },
    {
      "cell_type": "code",
      "metadata": {
        "id": "i62OMB4NmB7y",
        "colab_type": "code",
        "colab": {
          "base_uri": "https://localhost:8080/",
          "height": 69
        },
        "outputId": "1543baec-167e-42ec-a7ca-b0fb38184ff6"
      },
      "source": [
        "#Testing the Data with our own inputs\n",
        "\n",
        "#Create a dictionary and set each key to a column and instantiate each value \n",
        "#to be 0 to start out with\n",
        "testDat = {}\n",
        "for feature in features:\n",
        "\ttestDat[feature] = 0\n",
        "\n",
        "#Assign each slot that we want to have our test person have with a 1\n",
        "testDat['shot'] = 1\n",
        "testDat['vehicle'] = 1\n",
        "testDat['M'] = 1\n",
        "testDat['W'] = 1\n",
        "testDat['Los Angeles'] = 1\n",
        "testDat['CA'] = 1\n",
        "testDat['False'] = 1\n",
        "testDat['attack'] = 1\n",
        "testDat['Not fleeing'] = 1\n",
        "testDat['False'] =1\n",
        "\n",
        "#Iterate through all the keys and put their values in an array \n",
        "modelInput = []\n",
        "for key in testDat:\n",
        "  modelInput.append(testDat[key])\n",
        "#This next step is here because there were 8 columns that were taken away from \n",
        "#and we have to put them back\n",
        "for i in range(8):\n",
        "  modelInput.append(0)\n",
        "\n",
        "print(\"The out put is a prediction of a White Male that was shot in\")\n",
        "print(\"Los Angeles, California who attacked the police and did not flee\")\n",
        "print(\"The prediction is....   \" + str(model.predict([modelInput])))"
      ],
      "execution_count": 44,
      "outputs": [
        {
          "output_type": "stream",
          "text": [
            "The out put is a prediction of a White Male that was shot in\n",
            "Los Angeles, California who attacked the police and did not flee\n",
            "The prediction is....   [25.]\n"
          ],
          "name": "stdout"
        }
      ]
    }
  ]
}